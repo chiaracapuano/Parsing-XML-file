{
 "cells": [
  {
   "cell_type": "markdown",
   "metadata": {},
   "source": [
    "The following function parses the file Library.xml in a Python dictionary:"
   ]
  },
  {
   "cell_type": "code",
   "execution_count": null,
   "metadata": {},
   "outputs": [],
   "source": [
    "import xml.etree.ElementTree as ET\n",
    "\n",
    "fname = 'Library.xml'\n",
    "file = ET.parse(fname)\n",
    "to_parse = file.findall('dict/dict/dict')\n",
    "\n",
    "def one_dict(to_parse):\n",
    "    ddd = dict()\n",
    "    k = []\n",
    "\n",
    "    for entry in to_parse:\n",
    "\n",
    "        for child in entry:\n",
    "\n",
    "            if child.tag == 'key' and child.text not in ddd:\n",
    "                ddd[child.text] = []\n",
    "                k = child.text\n",
    "\n",
    "            elif child.tag == 'key' and child.text in ddd:\n",
    "                k = child.text\n",
    "                continue\n",
    "\n",
    "            else:\n",
    "                ddd[k].append(child.text)\n",
    "\n",
    "    return ddd\n",
    "\n",
    "print(one_dict(to_parse))"
   ]
  }
 ],
 "metadata": {
  "kernelspec": {
   "display_name": "Python 3",
   "language": "python",
   "name": "python3"
  },
  "language_info": {
   "codemirror_mode": {
    "name": "ipython",
    "version": 3
   },
   "file_extension": ".py",
   "mimetype": "text/x-python",
   "name": "python",
   "nbconvert_exporter": "python",
   "pygments_lexer": "ipython3",
   "version": "3.6.5"
  }
 },
 "nbformat": 4,
 "nbformat_minor": 2
}
